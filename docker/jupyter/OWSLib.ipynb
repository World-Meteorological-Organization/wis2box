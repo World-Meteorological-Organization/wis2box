{
 "cells": [
  {
   "cell_type": "markdown",
   "id": "473fea8a-ad1b-48f1-b84a-c6c2cbf36e1d",
   "metadata": {},
   "source": [
    "# OWSLib"
   ]
  },
  {
   "cell_type": "markdown",
   "id": "7b7ceb09-3086-4f01-b6fc-91b95de88d47",
   "metadata": {},
   "source": [
    "Install requirements"
   ]
  },
  {
   "cell_type": "code",
   "execution_count": 1,
   "id": "16f8eb43-ba9a-4782-87da-76734a559cca",
   "metadata": {},
   "outputs": [
    {
     "name": "stdout",
     "output_type": "stream",
     "text": [
      "Collecting OWSLib\n",
      "  Downloading OWSLib-0.25.0-py2.py3-none-any.whl (216 kB)\n",
      "\u001b[2K     \u001b[90m━━━━━━━━━━━━━━━━━━━━━━━━━━━━━━━━━━━━━━━\u001b[0m \u001b[32m216.5/216.5 KB\u001b[0m \u001b[31m7.2 MB/s\u001b[0m eta \u001b[36m0:00:00\u001b[0m\n",
      "\u001b[?25hCollecting pyproj>=2\n",
      "  Downloading pyproj-3.3.0-cp39-cp39-manylinux_2_12_x86_64.manylinux2010_x86_64.whl (5.8 MB)\n",
      "\u001b[2K     \u001b[90m━━━━━━━━━━━━━━━━━━━━━━━━━━━━━━━━━━━━━━━━\u001b[0m \u001b[32m5.8/5.8 MB\u001b[0m \u001b[31m7.2 MB/s\u001b[0m eta \u001b[36m0:00:00\u001b[0m00:01\u001b[0m00:01\u001b[0m\n",
      "\u001b[?25hRequirement already satisfied: pyyaml in /opt/conda/lib/python3.9/site-packages (from OWSLib) (6.0)\n",
      "Requirement already satisfied: python-dateutil>=1.5 in /opt/conda/lib/python3.9/site-packages (from OWSLib) (2.8.2)\n",
      "Requirement already satisfied: requests>=1.0 in /opt/conda/lib/python3.9/site-packages (from OWSLib) (2.27.1)\n",
      "Requirement already satisfied: pytz in /opt/conda/lib/python3.9/site-packages (from OWSLib) (2021.3)\n",
      "Requirement already satisfied: certifi in /opt/conda/lib/python3.9/site-packages (from pyproj>=2->OWSLib) (2021.10.8)\n",
      "Requirement already satisfied: six>=1.5 in /opt/conda/lib/python3.9/site-packages (from python-dateutil>=1.5->OWSLib) (1.16.0)\n",
      "Requirement already satisfied: urllib3<1.27,>=1.21.1 in /opt/conda/lib/python3.9/site-packages (from requests>=1.0->OWSLib) (1.26.8)\n",
      "Requirement already satisfied: idna<4,>=2.5 in /opt/conda/lib/python3.9/site-packages (from requests>=1.0->OWSLib) (3.3)\n",
      "Requirement already satisfied: charset-normalizer~=2.0.0 in /opt/conda/lib/python3.9/site-packages (from requests>=1.0->OWSLib) (2.0.12)\n",
      "Installing collected packages: pyproj, OWSLib\n",
      "Successfully installed OWSLib-0.25.0 pyproj-3.3.0\n",
      "Collecting lxml\n",
      "  Downloading lxml-4.8.0-cp39-cp39-manylinux_2_17_x86_64.manylinux2014_x86_64.manylinux_2_24_x86_64.whl (6.9 MB)\n",
      "\u001b[2K     \u001b[90m━━━━━━━━━━━━━━━━━━━━━━━━━━━━━━━━━━━━━━━━\u001b[0m \u001b[32m6.9/6.9 MB\u001b[0m \u001b[31m7.1 MB/s\u001b[0m eta \u001b[36m0:00:00\u001b[0m00:01\u001b[0m00:01\u001b[0m\n",
      "\u001b[?25hInstalling collected packages: lxml\n",
      "Successfully installed lxml-4.8.0\n"
     ]
    }
   ],
   "source": [
    "import sys\n",
    "\n",
    "!{sys.executable} -m pip install OWSLib\n",
    "!{sys.executable} -m pip install lxml"
   ]
  },
  {
   "cell_type": "markdown",
   "id": "5f1b8103-776e-455e-a715-755cce29f850",
   "metadata": {},
   "source": [
    "## Import Requirements"
   ]
  },
  {
   "cell_type": "code",
   "execution_count": 2,
   "id": "36a9be52-3fca-4fae-9757-99552a9d72d7",
   "metadata": {},
   "outputs": [],
   "source": [
    "from owslib.ogcapi.features import Features\n",
    "import pandas as pd\n",
    "\n",
    "oapi = \"http://pygeoapi/pygeoapi\" # jupyter is run through docker\n",
    "#oapi = http://localhost:8999/pygeoapi # jupyter is run on host machine\n",
    "\n",
    "def pretty_print(input):\n",
    "    print(json.dumps(input, indent=2))"
   ]
  },
  {
   "cell_type": "markdown",
   "id": "ae687310-f8ba-4242-b29d-8cc9ad23e343",
   "metadata": {},
   "source": [
    "Load OAPI with OWSLib"
   ]
  },
  {
   "cell_type": "code",
   "execution_count": 4,
   "id": "0762be2b-b605-43bf-a577-3087eb472685",
   "metadata": {},
   "outputs": [
    {
     "name": "stdout",
     "output_type": "stream",
     "text": [
      "This OGC API Features endpoint has 3 datasets\n",
      "Stations\n",
      "Discovery metadata\n",
      "Surface weather observations (hourly)\n",
      "id            object\n",
      "conformsTo    object\n",
      "type          object\n",
      "geometry      object\n",
      "properties    object\n",
      "dtype: object\n",
      "                                           id  \\\n",
      "0  WIGOS_0-454-2-AWSNAMITAMBO_20210707T145500   \n",
      "1  WIGOS_0-454-2-AWSNAMITAMBO_20210707T155500   \n",
      "2  WIGOS_0-454-2-AWSNAMITAMBO_20210707T165500   \n",
      "\n",
      "                                          conformsTo     type  \\\n",
      "0  [http://www.opengis.net/spec/ogcapi-features-1...  Feature   \n",
      "1  [http://www.opengis.net/spec/ogcapi-features-1...  Feature   \n",
      "2  [http://www.opengis.net/spec/ogcapi-features-1...  Feature   \n",
      "\n",
      "                                            geometry  \\\n",
      "0  {'type': 'Point', 'coordinates': [35.27, -15.8...   \n",
      "1  {'type': 'Point', 'coordinates': [35.27, -15.8...   \n",
      "2  {'type': 'Point', 'coordinates': [35.27, -15.8...   \n",
      "\n",
      "                                          properties  \n",
      "0  {'identifier': 'WIGOS_0-454-2-AWSNAMITAMBO_202...  \n",
      "1  {'identifier': 'WIGOS_0-454-2-AWSNAMITAMBO_202...  \n",
      "2  {'identifier': 'WIGOS_0-454-2-AWSNAMITAMBO_202...  \n"
     ]
    }
   ],
   "source": [
    "api = Features(oapi)\n",
    "\n",
    "collections = api.collections()\n",
    "print(f'This OGC API Features endpoint has {len(collections[\"collections\"])} datasets')\n",
    "[print(collection['title']) for collection in collections[\"collections\"]]\n",
    "\n",
    "malawi_obs = api.collection_items('data.core.observations-surface-land.mw.FWCL.landFixed')\n",
    "malawi_obs_df = pd.DataFrame(malawi_obs['features'])\n",
    "\n",
    "# then filter by station\n",
    "namitambo_obs = api.collection_items('data.core.observations-surface-land.mw.FWCL.landFixed', **{\"wmo:wigos_station_identifier\":'0-454-2-AWSNAMITAMBO'})\n",
    "namitambo_obs_df = pd.DataFrame(namitambo_obs['features'])\n",
    "print(malawi_obs_df.dtypes)\n",
    "print(malawi_obs_df.head(3))"
   ]
  },
  {
   "cell_type": "code",
   "execution_count": null,
   "id": "77079ca0-0d6c-44e0-aa2f-6c35cd6e886e",
   "metadata": {},
   "outputs": [],
   "source": []
  }
 ],
 "metadata": {
  "kernelspec": {
   "display_name": "Python 3 (ipykernel)",
   "language": "python",
   "name": "python3"
  },
  "language_info": {
   "codemirror_mode": {
    "name": "ipython",
    "version": 3
   },
   "file_extension": ".py",
   "mimetype": "text/x-python",
   "name": "python",
   "nbconvert_exporter": "python",
   "pygments_lexer": "ipython3",
   "version": "3.9.7"
  }
 },
 "nbformat": 4,
 "nbformat_minor": 5
}
