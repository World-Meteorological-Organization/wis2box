{
 "cells": [
  {
   "cell_type": "markdown",
   "id": "e25246a8-685f-41ee-9872-dc5bc2f18d9e",
   "metadata": {},
   "source": [
    "# R"
   ]
  },
  {
   "cell_type": "markdown",
   "id": "7c41f82e-3b80-4907-9da7-9d5e4f546b10",
   "metadata": {},
   "source": [
    "Install Requirements"
   ]
  },
  {
   "cell_type": "code",
   "execution_count": null,
   "id": "1b1660c1-1606-407f-aac8-83d149255c5a",
   "metadata": {},
   "outputs": [],
   "source": [
    "install.packages(\"sf\")\n",
    "install.packages(\"dplyr\")"
   ]
  },
  {
   "cell_type": "markdown",
   "id": "f6f5bab1-721f-46ed-a2f3-a77ae06f1d92",
   "metadata": {},
   "source": [
    "Import Requirements"
   ]
  },
  {
   "cell_type": "code",
   "execution_count": null,
   "id": "04f24c1f-bfb9-42cd-bedc-c14164e85656",
   "metadata": {},
   "outputs": [],
   "source": [
    "library(sf)\n",
    "library(dplyr)\n",
    "\n",
    "oapi <- \"http://pygeoapi/pygeoapi\" # jupyter is run through docker\n",
    "#oapi = http://localhost:8999/pygeoapi # jupyter is run on host machine"
   ]
  },
  {
   "cell_type": "code",
   "execution_count": 5,
   "id": "2e44542e-d6bf-4c21-acbd-78f901974d56",
   "metadata": {},
   "outputs": [
    {
     "ename": "ERROR",
     "evalue": "Error in read_sf(oapi + \"/collections/stations/items?f=json\"): could not find function \"read_sf\"\n",
     "output_type": "error",
     "traceback": [
      "Error in read_sf(oapi + \"/collections/stations/items?f=json\"): could not find function \"read_sf\"\nTraceback:\n"
     ]
    }
   ],
   "source": [
    "stations <- read_sf(oapi + \"/collections/stations/items?f=json\")\n",
    "mapview::mapview(stations)"
   ]
  },
  {
   "cell_type": "code",
   "execution_count": null,
   "id": "f4981279-60ca-4fa7-9590-a53e194f17cb",
   "metadata": {},
   "outputs": [],
   "source": []
  }
 ],
 "metadata": {
  "kernelspec": {
   "display_name": "R",
   "language": "R",
   "name": "ir"
  },
  "language_info": {
   "codemirror_mode": "r",
   "file_extension": ".r",
   "mimetype": "text/x-r-source",
   "name": "R",
   "pygments_lexer": "r",
   "version": "4.1.2"
  }
 },
 "nbformat": 4,
 "nbformat_minor": 5
}
