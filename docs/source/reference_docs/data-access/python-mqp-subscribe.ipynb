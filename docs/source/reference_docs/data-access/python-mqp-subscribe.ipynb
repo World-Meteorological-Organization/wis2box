{
 "cells": [
  {
   "cell_type": "markdown",
   "id": "3777a6a8",
   "metadata": {},
   "source": [
    "# Using Python and paho-mqtt\n",
    "\n",
    "\n",
    "This example will use widely available and used python language and libraries to download some announcements, and then retrieve the corresponding data, using only the [paho-mqtt](https://pypi.org/project/paho-mqtt) client library, in addition to Python standard libraries."
   ]
  },
  {
   "cell_type": "code",
   "execution_count": 1,
   "id": "aafe3bc6",
   "metadata": {},
   "outputs": [],
   "source": [
    "import json\n",
    "import paho.mqtt.client as mqtt\n",
    "import random\n",
    "import urllib\n",
    "import urllib.request\n",
    "\n",
    "\n",
    "host='localhost'\n",
    "user='wis2box'\n",
    "password='wis2box'\n",
    "\n",
    "r = random.Random()\n",
    "clientId='MyQueueName'+ f\"{r.randint(1,1000):04d}\"\n",
    "# number of messages to subscribe to.\n",
    "messageCount = 0\n",
    "messageCountMaximum = 5\n",
    "\n",
    "# maximum size of data download to print.\n",
    "sizeMaximumThreshold = 1023"
   ]
  },
  {
   "cell_type": "markdown",
   "id": "c34a35f3",
   "metadata": {},
   "source": [
    "The above imports the required modules. It is also assumed that `localhost` is set up and is publishing messages. Message queueing protocols provide real-time notification about availability of products.\n",
    "\n",
    "The standard Python package used to subscribe to messages is `paho-mqtt` (`paho.mqtt.client`). The package uses callbacks.\n",
    "\n",
    "Note that `messageCount` is used to limit the length of the demonstration (otherwise infinite, as it is a continuous flow).\n",
    "\n",
    "Let's investigate our callbacks."
   ]
  },
  {
   "cell_type": "code",
   "execution_count": 2,
   "id": "0872f79c",
   "metadata": {},
   "outputs": [],
   "source": [
    "def sub_connect(client, userdata, flags, rc, properties=None):\n",
    "    print(\"on connection to subscribe: \", mqtt.connack_string(rc))\n",
    "    for s in [\"origin/#\"]:\n",
    "        client.subscribe(s, qos=1)"
   ]
  },
  {
   "cell_type": "markdown",
   "id": "0ae959f2",
   "metadata": {},
   "source": [
    "The `sub_connect` callback needed is called when the connection is established, which required to subscribe to topics we are interested in (topics are: `origin/#`, where `/` is a topic separator and `#` is a wildcard for any tree of topics.\n",
    "\n",
    "The `qos=1` refers to Quality of Service, where `1` establishes reception of messages at least once. `qos=1` is recommended.\n",
    "\n",
    "The next callback is called every time a message is received, and decodes and prints the message.\n",
    "\n",
    "To keep the output short for the demonstration, we limit the subscriber to a few messages."
   ]
  },
  {
   "cell_type": "code",
   "execution_count": 3,
   "id": "832f5336",
   "metadata": {},
   "outputs": [],
   "source": [
    "def sub_message(client, userdata, msg):\n",
    "    \"\"\"\n",
    "    print messages received.  Exit on count received.\n",
    "    \"\"\"\n",
    "\n",
    "    global messageCount,messageCountMaximum\n",
    "\n",
    "    m = json.loads(msg.payload.decode('utf-8'))\n",
    "\n",
    "    print(f\"message {messageCount} topic: {msg.topic} received: {m}\")\n",
    "    print(f\"message {messageCount} data: {getData(m)}\")\n",
    "\n",
    "    messageCount += 1\n",
    "\n",
    "    if messageCount > messageCountMaximum:\n",
    "        client.disconnect()\n",
    "        client.loop_stop()"
   ]
  },
  {
   "cell_type": "markdown",
   "id": "7bc42d9c",
   "metadata": {},
   "source": [
    "The message handler above calls the `getData()` (below). The messages themselves are usually announcements of data availability, but when data is small, they can include the data itself (inline) in the `content` field. Usually the message refers to the data using a link. Here is a routine to obtain the data given an announcement message:"
   ]
  },
  {
   "cell_type": "code",
   "execution_count": 4,
   "id": "15474c8c",
   "metadata": {},
   "outputs": [],
   "source": [
    "def getData(m, sizeMaximum=1000):\n",
    "    \"\"\"\n",
    "    given a message, return the data it refers to\n",
    "    \"\"\"\n",
    "\n",
    "    if 'size' in m and m['size'] > sizeMaximum:\n",
    "        return f\" data too large {m['size']} bytes\"\n",
    "    elif 'content' in m:\n",
    "        if m['content']['encoding'] == 'base64':\n",
    "            return b64decode(m['content']['value'])\n",
    "        else:\n",
    "            return m['content']['value'].encode('utf-8')\n",
    "    else:\n",
    "        url = m['baseUrl'] + '/' + m['relPath']       \n",
    "        with urllib.request.urlopen(url) as response:\n",
    "            return response.read()        "
   ]
  },
  {
   "cell_type": "markdown",
   "id": "97c5b960",
   "metadata": {},
   "source": [
    "The calling code then registers the callbacks, connects to the broker, and starts the event loop:"
   ]
  },
  {
   "cell_type": "code",
   "execution_count": null,
   "id": "c2c326a5",
   "metadata": {},
   "outputs": [
    {
     "name": "stdout",
     "output_type": "stream",
     "text": [
      "on connection to subscribe:  Connection Accepted.\n",
      "on connection to subscribe:  Connection Accepted.\n",
      "on connection to subscribe:  Connection Accepted.\n",
      "on connection to subscribe:  Connection Accepted.\n",
      "on connection to subscribe:  Connection Accepted.\n",
      "on connection to subscribe:  Connection Accepted.\n",
      "on connection to subscribe:  Connection Accepted.\n",
      "on connection to subscribe:  Connection Accepted.\n",
      "on connection to subscribe:  Connection Accepted.\n",
      "on connection to subscribe:  Connection Accepted.\n",
      "on connection to subscribe:  Connection Accepted.\n",
      "on connection to subscribe:  Connection Accepted.\n",
      "on connection to subscribe:  Connection Accepted.\n",
      "on connection to subscribe:  Connection Accepted.\n",
      "on connection to subscribe:  Connection Accepted.\n",
      "on connection to subscribe:  Connection Accepted.\n",
      "on connection to subscribe:  Connection Accepted.\n",
      "on connection to subscribe:  Connection Accepted.\n",
      "on connection to subscribe:  Connection Accepted.\n",
      "on connection to subscribe:  Connection Accepted.\n",
      "on connection to subscribe:  Connection Accepted.\n",
      "on connection to subscribe:  Connection Accepted.\n",
      "on connection to subscribe:  Connection Accepted.\n",
      "on connection to subscribe:  Connection Accepted.\n",
      "on connection to subscribe:  Connection Accepted.\n",
      "on connection to subscribe:  Connection Accepted.\n",
      "on connection to subscribe:  Connection Accepted.\n",
      "on connection to subscribe:  Connection Accepted.\n",
      "on connection to subscribe:  Connection Accepted.\n",
      "on connection to subscribe:  Connection Accepted.\n",
      "on connection to subscribe:  Connection Accepted.\n",
      "on connection to subscribe:  Connection Accepted.\n",
      "on connection to subscribe:  Connection Accepted.\n",
      "on connection to subscribe:  Connection Accepted.\n",
      "on connection to subscribe:  Connection Accepted.\n",
      "on connection to subscribe:  Connection Accepted.\n",
      "on connection to subscribe:  Connection Accepted.\n",
      "on connection to subscribe:  Connection Accepted.\n",
      "on connection to subscribe:  Connection Accepted.\n",
      "on connection to subscribe:  Connection Accepted.\n",
      "on connection to subscribe:  Connection Accepted.\n",
      "on connection to subscribe:  Connection Accepted.\n",
      "on connection to subscribe:  Connection Accepted.\n",
      "on connection to subscribe:  Connection Accepted.\n",
      "on connection to subscribe:  Connection Accepted.\n",
      "on connection to subscribe:  Connection Accepted.\n",
      "on connection to subscribe:  Connection Accepted.\n",
      "on connection to subscribe:  Connection Accepted.\n",
      "on connection to subscribe:  Connection Accepted.\n",
      "on connection to subscribe:  Connection Accepted.\n",
      "on connection to subscribe:  Connection Accepted.\n",
      "on connection to subscribe:  Connection Accepted.\n",
      "on connection to subscribe:  Connection Accepted.\n"
     ]
    }
   ],
   "source": [
    "client = mqtt.Client(client_id=clientId, protocol=mqtt.MQTTv5)\n",
    "client.on_connect = sub_connect\n",
    "client.on_message = sub_message\n",
    "client.username_pw_set(user, password)\n",
    "client.connect(host)\n",
    "\n",
    "client.loop_forever()"
   ]
  },
  {
   "cell_type": "code",
   "execution_count": null,
   "id": "56549f16",
   "metadata": {},
   "outputs": [],
   "source": []
  }
 ],
 "metadata": {
  "kernelspec": {
   "display_name": "Python 3 (ipykernel)",
   "language": "python",
   "name": "python3"
  },
  "language_info": {
   "codemirror_mode": {
    "name": "ipython",
    "version": 3
   },
   "file_extension": ".py",
   "mimetype": "text/x-python",
   "name": "python",
   "nbconvert_exporter": "python",
   "pygments_lexer": "ipython3",
   "version": "3.7.4"
  }
 },
 "nbformat": 4,
 "nbformat_minor": 5
}
