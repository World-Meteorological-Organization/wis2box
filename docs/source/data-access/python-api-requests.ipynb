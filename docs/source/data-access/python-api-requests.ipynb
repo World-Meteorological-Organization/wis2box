{
 "cells": [
  {
   "cell_type": "markdown",
   "metadata": {},
   "source": [
    "# Using Python, requests and Pandas"
   ]
  },
  {
   "cell_type": "markdown",
   "metadata": {},
   "source": [
    "[Python](https://www.python.org) is a popular programming language which is heavily used in the data science domains.  Python provides high level functionality supporting rapid application development with a large ecosystem of packages to work with weather/climate/water data.\n",
    "\n",
    "Let's use the [Python requests](https://docs.python-requests.org) package to further interact with the wis2box API, and [Pandas](https://pandas.pydata.org) to run some simple summary statistics."
   ]
  },
  {
   "cell_type": "code",
   "execution_count": 1,
   "metadata": {},
   "outputs": [],
   "source": [
    "import json\n",
    "\n",
    "import requests\n",
    "\n",
    "def pretty_print(input):\n",
    "    print(json.dumps(input, indent=2))\n",
    "\n",
    "\n",
    "# define the endpoint of the OGC API\n",
    "api = 'http://localhost:8999/oapi'"
   ]
  },
  {
   "cell_type": "markdown",
   "metadata": {
    "tags": []
   },
   "source": [
    "## Stations\n",
    "\n",
    "Let's find all the stations in our wis2box:"
   ]
  },
  {
   "cell_type": "code",
   "execution_count": 2,
   "metadata": {},
   "outputs": [
    {
     "name": "stdout",
     "output_type": "stream",
     "text": [
      "Number of stations: 26\n",
      "Stations:\n",
      "\n",
      "NAMBUMA\n",
      "BALAKA\n",
      "BILIRA\n",
      "CHIDOOLE\n",
      "CHIKANGAWA\n",
      "CHIKWEO\n",
      "CHINGALE\n",
      "KALAMBO\n",
      "KASIYA AWS\n",
      "KASUNGU NATIONAL PARK AWS\n",
      "KAWALAZI\n",
      "KAYEREKERA\n",
      "LENGWE NATIONAL PARK\n",
      "LOBI AWS\n",
      "MAKANJIRA\n",
      "MALOMO\n",
      "MISUKU\n",
      "MLARE\n",
      "MLOMBA\n",
      "MTOSA BENGA\n",
      "NAMITAMBO\n",
      "NANKUMBA\n",
      "NKHOMA UNIVERSITY\n",
      "NKHULAMBE\n",
      "NYACHILENDA\n",
      "TOLEZA\n"
     ]
    }
   ],
   "source": [
    "url = f'{api}/collections/stations/items?limit=50'\n",
    "\n",
    "response = requests.get(url).json()\n",
    "\n",
    "print(f\"Number of stations: {response['numberMatched']}\")\n",
    "\n",
    "print('Stations:\\n')\n",
    "for station in response['features']:\n",
    "    print(station['properties']['name'])"
   ]
  },
  {
   "cell_type": "markdown",
   "metadata": {},
   "source": [
    "## Discovery Metadata\n",
    "\n",
    "Now, let's find all the dataset that are provided by the above stations.  Each dataset is identified by a WIS 2.0 discovery metadata record."
   ]
  },
  {
   "cell_type": "code",
   "execution_count": 3,
   "metadata": {},
   "outputs": [
    {
     "name": "stdout",
     "output_type": "stream",
     "text": [
      "Datasets:\n",
      "\n",
      "id: data.core.test-passthrough, title: Surface weather observations (passthrough)\n",
      "id: data.core.observations-surface-land.mw.FWCL.landFixed, title: Surface weather observations (hourly)\n"
     ]
    }
   ],
   "source": [
    "url = f'{api}/collections/discovery-metadata/items'\n",
    "\n",
    "response = requests.get(url).json()\n",
    "\n",
    "print('Datasets:\\n')\n",
    "for dataset in response['features']:\n",
    "    print(f\"id: {dataset['properties']['id']}, title: {dataset['properties']['title']}\")"
   ]
  },
  {
   "cell_type": "markdown",
   "metadata": {},
   "source": [
    "Let's find all the data access links associated with the Surface weather observations (hourly) dataset:"
   ]
  },
  {
   "cell_type": "code",
   "execution_count": 4,
   "metadata": {},
   "outputs": [
    {
     "name": "stdout",
     "output_type": "stream",
     "text": [
      "Data access links:\n",
      "\n",
      "{'rel': 'self', 'type': 'application/geo+json', 'title': 'This document as GeoJSON', 'href': 'http://localhost:8999/oapi/collections/discovery-metadata/items/data.core.observations-surface-land.mw.FWCL.landFixed?f=json'} http://localhost:8999/oapi/collections/discovery-metadata/items/data.core.observations-surface-land.mw.FWCL.landFixed?f=json (application/geo+json) self\n",
      "{'rel': 'alternate', 'type': 'application/ld+json', 'title': 'This document as RDF (JSON-LD)', 'href': 'http://localhost:8999/oapi/collections/discovery-metadata/items/data.core.observations-surface-land.mw.FWCL.landFixed?f=jsonld'} http://localhost:8999/oapi/collections/discovery-metadata/items/data.core.observations-surface-land.mw.FWCL.landFixed?f=jsonld (application/ld+json) alternate\n",
      "{'rel': 'alternate', 'type': 'text/html', 'title': 'This document as HTML', 'href': 'http://localhost:8999/oapi/collections/discovery-metadata/items/data.core.observations-surface-land.mw.FWCL.landFixed?f=html'} http://localhost:8999/oapi/collections/discovery-metadata/items/data.core.observations-surface-land.mw.FWCL.landFixed?f=html (text/html) alternate\n",
      "{'rel': 'collection', 'type': 'application/json', 'title': 'Discovery metadata', 'href': 'http://localhost:8999/oapi/collections/discovery-metadata'} http://localhost:8999/oapi/collections/discovery-metadata (application/json) collection\n"
     ]
    },
    {
     "data": {
      "text/plain": [
       "['http://localhost:8999/oapi/collections/discovery-metadata/items/data.core.observations-surface-land.mw.FWCL.landFixed?f=json',\n",
       " 'http://localhost:8999/oapi/collections/discovery-metadata/items/data.core.observations-surface-land.mw.FWCL.landFixed?f=jsonld',\n",
       " 'http://localhost:8999/oapi/collections/discovery-metadata/items/data.core.observations-surface-land.mw.FWCL.landFixed?f=html',\n",
       " 'http://localhost:8999/oapi/collections/discovery-metadata']"
      ]
     },
     "execution_count": 4,
     "metadata": {},
     "output_type": "execute_result"
    }
   ],
   "source": [
    "dataset_id = 'data.core.observations-surface-land.mw.FWCL.landFixed'\n",
    "\n",
    "url = f\"{api}/collections/discovery-metadata/items/{dataset_id}\"\n",
    "\n",
    "response = requests.get(url).json()\n",
    "\n",
    "print('Data access links:\\n')\n",
    "for link in response['links']:\n",
    "    print(f\"{link} {link['href']} ({link['type']}) {link['rel']}\")\n",
    "    link['rel']\n",
    "\n",
    "[link['href'] for link in response['links']]"
   ]
  },
  {
   "cell_type": "markdown",
   "metadata": {},
   "source": [
    "Let's use the OGC API - Features (OAFeat) link to drill into the observations for Chidoole station"
   ]
  },
  {
   "cell_type": "code",
   "execution_count": 5,
   "metadata": {},
   "outputs": [
    {
     "data": {
      "text/plain": [
       "'http://localhost:8999/oapi/collections/data.core.observations-surface-land.mw.FWCL.landFixed'"
      ]
     },
     "execution_count": 5,
     "metadata": {},
     "output_type": "execute_result"
    }
   ],
   "source": [
    "dataset_api_link = 'http://localhost:8999/oapi/collections/data.core.observations-surface-land.mw.FWCL.landFixed'\n",
    "\n",
    "dataset_api_link"
   ]
  },
  {
   "cell_type": "markdown",
   "metadata": {},
   "source": [
    "## Observations\n",
    "\n",
    "Let's inspect some of the data in the API's raw GeoJSON format:"
   ]
  },
  {
   "cell_type": "code",
   "execution_count": 6,
   "metadata": {
    "scrolled": false
   },
   "outputs": [
    {
     "name": "stdout",
     "output_type": "stream",
     "text": [
      "{\n",
      "  \"id\": \"WIGOS_0-454-2-AWSCHINGALE_20220112T135500-25\",\n",
      "  \"reportId\": \"WIGOS_0-454-2-AWSCHINGALE_20220112T135500\",\n",
      "  \"type\": \"Feature\",\n",
      "  \"geometry\": {\n",
      "    \"type\": \"Point\",\n",
      "    \"coordinates\": [\n",
      "      35.11,\n",
      "      -15.24,\n",
      "      623.0\n",
      "    ]\n",
      "  },\n",
      "  \"properties\": {\n",
      "    \"wigos_station_identifier\": \"0-454-2-AWSCHINGALE\",\n",
      "    \"phenomenonTime\": \"2022-01-12T13:55:00Z\",\n",
      "    \"resultTime\": \"2022-01-12T13:55:00Z\",\n",
      "    \"name\": \"air_temperature\",\n",
      "    \"value\": 24.85,\n",
      "    \"units\": \"Celsius\",\n",
      "    \"description\": null,\n",
      "    \"metadata\": [\n",
      "      {\n",
      "        \"name\": \"station_or_site_name\",\n",
      "        \"value\": null,\n",
      "        \"units\": \"CCITT IA5\",\n",
      "        \"description\": \"Chingale\"\n",
      "      },\n",
      "      {\n",
      "        \"name\": \"station_type\",\n",
      "        \"value\": 0,\n",
      "        \"units\": \"CODE TABLE\",\n",
      "        \"description\": \"Automatic\"\n",
      "      },\n",
      "      {\n",
      "        \"name\": \"height_of_barometer_above_mean_sea_level\",\n",
      "        \"value\": 624.0,\n",
      "        \"units\": \"m\",\n",
      "        \"description\": null\n",
      "      },\n",
      "      {\n",
      "        \"name\": \"height_of_sensor_above_local_ground_or_deck_of_marine_platform\",\n",
      "        \"value\": 1.5,\n",
      "        \"units\": \"m\",\n",
      "        \"description\": null\n",
      "      }\n",
      "    ],\n",
      "    \"index\": 25,\n",
      "    \"fxxyyy\": \"012101\",\n",
      "    \"id\": \"WIGOS_0-454-2-AWSCHINGALE_20220112T135500-25\"\n",
      "  }\n",
      "}\n"
     ]
    }
   ],
   "source": [
    "url = f'{dataset_api_link}/items'\n",
    "\n",
    "query_parameters = {\n",
    "    'wigos_station_identifier': '0-454-2-AWSCHIDOOLE',\n",
    "    'limit': 10000,\n",
    "    'name': 'air_temperature'\n",
    "}\n",
    "\n",
    "response = requests.get(url, params=query_parameters).json()\n",
    "\n",
    "pretty_print(response['features'][0])"
   ]
  },
  {
   "cell_type": "markdown",
   "metadata": {},
   "source": [
    "Let's inspect what's measured at Chidoole:"
   ]
  },
  {
   "cell_type": "code",
   "execution_count": 7,
   "metadata": {},
   "outputs": [
    {
     "name": "stdout",
     "output_type": "stream",
     "text": [
      "Observed property:\n",
      "\n",
      "air_temperature (Celsius)\n"
     ]
    }
   ],
   "source": [
    "print('Observed property:\\n')\n",
    "feature = response['features'][9]\n",
    "print(f\"{feature['properties']['name']} ({feature['properties']['units']})\")"
   ]
  },
  {
   "cell_type": "markdown",
   "metadata": {},
   "source": [
    "## Pandas\n",
    "Let's use the GeoJSON to build a more user-friendly table"
   ]
  },
  {
   "cell_type": "code",
   "execution_count": 8,
   "metadata": {},
   "outputs": [],
   "source": [
    "import pandas as pd\n",
    "\n",
    "datestamp = [obs['properties']['resultTime'] for obs in response['features']]\n",
    "air_temperature = [obs['properties']['value'] for obs in response['features']]\n",
    "\n",
    "d = {\n",
    "    'Date/Time': datestamp,\n",
    "    'Air temperature (°C)': air_temperature\n",
    "}\n",
    "\n",
    "df = pd.DataFrame(data=d)"
   ]
  },
  {
   "cell_type": "code",
   "execution_count": 9,
   "metadata": {},
   "outputs": [
    {
     "data": {
      "text/html": [
       "<div>\n",
       "<style scoped>\n",
       "    .dataframe tbody tr th:only-of-type {\n",
       "        vertical-align: middle;\n",
       "    }\n",
       "\n",
       "    .dataframe tbody tr th {\n",
       "        vertical-align: top;\n",
       "    }\n",
       "\n",
       "    .dataframe thead th {\n",
       "        text-align: right;\n",
       "    }\n",
       "</style>\n",
       "<table border=\"1\" class=\"dataframe\">\n",
       "  <thead>\n",
       "    <tr style=\"text-align: right;\">\n",
       "      <th></th>\n",
       "      <th>Date/Time</th>\n",
       "      <th>Air temperature (°C)</th>\n",
       "    </tr>\n",
       "  </thead>\n",
       "  <tbody>\n",
       "    <tr>\n",
       "      <th>0</th>\n",
       "      <td>2022-01-12T13:55:00Z</td>\n",
       "      <td>24.85</td>\n",
       "    </tr>\n",
       "    <tr>\n",
       "      <th>1</th>\n",
       "      <td>2022-01-12T14:55:00Z</td>\n",
       "      <td>27.25</td>\n",
       "    </tr>\n",
       "    <tr>\n",
       "      <th>2</th>\n",
       "      <td>2022-01-12T15:55:00Z</td>\n",
       "      <td>26.65</td>\n",
       "    </tr>\n",
       "    <tr>\n",
       "      <th>3</th>\n",
       "      <td>2022-01-12T16:55:00Z</td>\n",
       "      <td>25.95</td>\n",
       "    </tr>\n",
       "    <tr>\n",
       "      <th>4</th>\n",
       "      <td>2022-01-12T17:55:00Z</td>\n",
       "      <td>25.45</td>\n",
       "    </tr>\n",
       "    <tr>\n",
       "      <th>...</th>\n",
       "      <td>...</td>\n",
       "      <td>...</td>\n",
       "    </tr>\n",
       "    <tr>\n",
       "      <th>5101</th>\n",
       "      <td>2022-06-09T12:55:00Z</td>\n",
       "      <td>21.35</td>\n",
       "    </tr>\n",
       "    <tr>\n",
       "      <th>5102</th>\n",
       "      <td>2022-06-09T13:55:00Z</td>\n",
       "      <td>22.25</td>\n",
       "    </tr>\n",
       "    <tr>\n",
       "      <th>5103</th>\n",
       "      <td>2022-06-09T14:55:00Z</td>\n",
       "      <td>20.25</td>\n",
       "    </tr>\n",
       "    <tr>\n",
       "      <th>5104</th>\n",
       "      <td>2022-06-10T12:55:00Z</td>\n",
       "      <td>23.75</td>\n",
       "    </tr>\n",
       "    <tr>\n",
       "      <th>5105</th>\n",
       "      <td>2022-06-10T14:55:00Z</td>\n",
       "      <td>21.15</td>\n",
       "    </tr>\n",
       "  </tbody>\n",
       "</table>\n",
       "<p>5106 rows × 2 columns</p>\n",
       "</div>"
      ],
      "text/plain": [
       "                 Date/Time  Air temperature (°C)\n",
       "0     2022-01-12T13:55:00Z                 24.85\n",
       "1     2022-01-12T14:55:00Z                 27.25\n",
       "2     2022-01-12T15:55:00Z                 26.65\n",
       "3     2022-01-12T16:55:00Z                 25.95\n",
       "4     2022-01-12T17:55:00Z                 25.45\n",
       "...                    ...                   ...\n",
       "5101  2022-06-09T12:55:00Z                 21.35\n",
       "5102  2022-06-09T13:55:00Z                 22.25\n",
       "5103  2022-06-09T14:55:00Z                 20.25\n",
       "5104  2022-06-10T12:55:00Z                 23.75\n",
       "5105  2022-06-10T14:55:00Z                 21.15\n",
       "\n",
       "[5106 rows x 2 columns]"
      ]
     },
     "execution_count": 9,
     "metadata": {},
     "output_type": "execute_result"
    }
   ],
   "source": [
    "df"
   ]
  },
  {
   "cell_type": "code",
   "execution_count": 10,
   "metadata": {},
   "outputs": [
    {
     "name": "stdout",
     "output_type": "stream",
     "text": [
      "Time extent\n",
      "\n",
      "Begin: 2022-01-12T13:55:00Z\n",
      "End: 2022-06-10T14:55:00Z\n",
      "Summary statistics:\n",
      "\n"
     ]
    },
    {
     "data": {
      "text/html": [
       "<div>\n",
       "<style scoped>\n",
       "    .dataframe tbody tr th:only-of-type {\n",
       "        vertical-align: middle;\n",
       "    }\n",
       "\n",
       "    .dataframe tbody tr th {\n",
       "        vertical-align: top;\n",
       "    }\n",
       "\n",
       "    .dataframe thead th {\n",
       "        text-align: right;\n",
       "    }\n",
       "</style>\n",
       "<table border=\"1\" class=\"dataframe\">\n",
       "  <thead>\n",
       "    <tr style=\"text-align: right;\">\n",
       "      <th></th>\n",
       "      <th>Air temperature (°C)</th>\n",
       "    </tr>\n",
       "  </thead>\n",
       "  <tbody>\n",
       "    <tr>\n",
       "      <th>count</th>\n",
       "      <td>5106.000000</td>\n",
       "    </tr>\n",
       "    <tr>\n",
       "      <th>mean</th>\n",
       "      <td>23.541559</td>\n",
       "    </tr>\n",
       "    <tr>\n",
       "      <th>std</th>\n",
       "      <td>4.053172</td>\n",
       "    </tr>\n",
       "    <tr>\n",
       "      <th>min</th>\n",
       "      <td>13.550000</td>\n",
       "    </tr>\n",
       "    <tr>\n",
       "      <th>25%</th>\n",
       "      <td>20.950000</td>\n",
       "    </tr>\n",
       "    <tr>\n",
       "      <th>50%</th>\n",
       "      <td>23.350000</td>\n",
       "    </tr>\n",
       "    <tr>\n",
       "      <th>75%</th>\n",
       "      <td>26.350000</td>\n",
       "    </tr>\n",
       "    <tr>\n",
       "      <th>max</th>\n",
       "      <td>37.850000</td>\n",
       "    </tr>\n",
       "  </tbody>\n",
       "</table>\n",
       "</div>"
      ],
      "text/plain": [
       "       Air temperature (°C)\n",
       "count           5106.000000\n",
       "mean              23.541559\n",
       "std                4.053172\n",
       "min               13.550000\n",
       "25%               20.950000\n",
       "50%               23.350000\n",
       "75%               26.350000\n",
       "max               37.850000"
      ]
     },
     "execution_count": 10,
     "metadata": {},
     "output_type": "execute_result"
    }
   ],
   "source": [
    "print(\"Time extent\\n\")\n",
    "print(f'Begin: {df[\"Date/Time\"].min()}')\n",
    "print(f'End: {df[\"Date/Time\"].max()}')\n",
    "\n",
    "print(\"Summary statistics:\\n\")\n",
    "df[['Air temperature (°C)']].describe()"
   ]
  },
  {
   "cell_type": "code",
   "execution_count": null,
   "metadata": {},
   "outputs": [],
   "source": []
  }
 ],
 "metadata": {
  "kernelspec": {
   "display_name": "Python 3 (ipykernel)",
   "language": "python",
   "name": "python3"
  },
  "language_info": {
   "codemirror_mode": {
    "name": "ipython",
    "version": 3
   },
   "file_extension": ".py",
   "mimetype": "text/x-python",
   "name": "python",
   "nbconvert_exporter": "python",
   "pygments_lexer": "ipython3",
   "version": "3.7.4"
  }
 },
 "nbformat": 4,
 "nbformat_minor": 4
}
