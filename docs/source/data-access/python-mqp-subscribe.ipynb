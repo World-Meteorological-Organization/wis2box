{
 "cells": [
  {
   "cell_type": "markdown",
   "id": "3777a6a8",
   "metadata": {},
   "source": [
    "# Using Python and paho-mqtt\n",
    "\n",
    "\n",
    "This example will use widely available and used python language and libraries to download some announcements, and then retrieve the corresponding data, using only the [paho-mqtt](https://pypi.org/project/paho-mqtt) client library, in addition to Python standard libraries."
   ]
  },
  {
   "cell_type": "code",
   "execution_count": 13,
   "id": "aafe3bc6",
   "metadata": {},
   "outputs": [],
   "source": [
    "import json\n",
    "import paho.mqtt.client as mqtt\n",
    "import random\n",
    "import urllib\n",
    "import urllib.request\n",
    "\n",
    "\n",
    "host='localhost'\n",
    "user='wis2box'\n",
    "password='wis2box'\n",
    "\n",
    "r = random.Random()\n",
    "clientId='MyQueueName'+ f\"{r.randint(1,1000):04d}\"\n",
    "# number of messages to subscribe to.\n",
    "messageCount = 0\n",
    "messageCountMaximum = 5\n",
    "\n",
    "# maximum size of data download to print.\n",
    "sizeMaximumThreshold = 1023"
   ]
  },
  {
   "cell_type": "markdown",
   "id": "c34a35f3",
   "metadata": {},
   "source": [
    "The above imports the required modules. It is also assumed that `localhost` is set up and is publishing messages. Message queueing protocols provide real-time notification about availability of products.\n",
    "\n",
    "The standard Python package used to subscribe to messages is `paho-mqtt` (`paho.mqtt.client`). The package uses callbacks.\n",
    "\n",
    "Note that `messageCount` is used to limit the length of the demonstration (otherwise infinite, as it is a continuous flow).\n",
    "\n",
    "Let's investigate our callbacks."
   ]
  },
  {
   "cell_type": "code",
   "execution_count": 14,
   "id": "0872f79c",
   "metadata": {},
   "outputs": [],
   "source": [
    "def sub_connect(client, userdata, flags, rc, properties=None):\n",
    "    print(\"on connection to subscribe: \", mqtt.connack_string(rc))\n",
    "    for s in [\"xpublic/#\"]:\n",
    "        client.subscribe(s, qos=1)"
   ]
  },
  {
   "cell_type": "markdown",
   "id": "0ae959f2",
   "metadata": {},
   "source": [
    "The `sub_connect` callback needed is called when the connection is established, which required to subscribe to topics we are interested in (topics are: `xpublic/#`, where `/` is a topic separator and `#` is a wildcard for any tree of topics.\n",
    "\n",
    "The `qos=1` refers to Quality of Service, where `1` establishes reception of messages at least once. `qos=1` is recommended.\n",
    "\n",
    "The next callback is called every time a message is received, and decodes and prints the message.\n",
    "\n",
    "To keep the output short for the demonstration, we limit the subscriber to a few messages."
   ]
  },
  {
   "cell_type": "code",
   "execution_count": 15,
   "id": "832f5336",
   "metadata": {},
   "outputs": [],
   "source": [
    "def sub_message(client, userdata, msg):\n",
    "    \"\"\"\n",
    "    print messages received.  Exit on count received.\n",
    "    \"\"\"\n",
    "\n",
    "    global messageCount,messageCountMaximum\n",
    "\n",
    "    m = json.loads(msg.payload.decode('utf-8'))\n",
    "\n",
    "    print(f\"message {messageCount} received: {m}\")\n",
    "    print(f\"message {messageCount} data: {getData(m)}\")\n",
    "\n",
    "    messageCount += 1\n",
    "\n",
    "    if messageCount > messageCountMaximum:\n",
    "        client.disconnect()\n",
    "        client.loop_stop()"
   ]
  },
  {
   "cell_type": "markdown",
   "id": "7bc42d9c",
   "metadata": {},
   "source": [
    "The message handler above calls the `getData()` (below). The messages themselves are usually announcements of data availability, but when data is small, they can include the data itself (inline) in the `content` field. Usually the message refers to the data using a link. Here is a routine to obtain the data given an announcement message:"
   ]
  },
  {
   "cell_type": "code",
   "execution_count": 16,
   "id": "15474c8c",
   "metadata": {},
   "outputs": [],
   "source": [
    "def getData(m, sizeMaximum=1000):\n",
    "    \"\"\"\n",
    "    given a message, return the data it refers to\n",
    "    \"\"\"\n",
    "\n",
    "    if 'size' in m and m['size'] > sizeMaximum:\n",
    "        return f\" data too large {m['size']} bytes\"\n",
    "    elif 'content' in m:\n",
    "        if m['content']['encoding'] == 'base64':\n",
    "            return b64decode(m['content']['value'])\n",
    "        else:\n",
    "            return m['content']['value'].encode('utf-8')\n",
    "    else:\n",
    "        url = m['baseUrl'] + '/' + m['relPath']       \n",
    "        with urllib.request.urlopen(url) as response:\n",
    "            return response.read()        "
   ]
  },
  {
   "cell_type": "markdown",
   "id": "97c5b960",
   "metadata": {},
   "source": [
    "The calling code then registers the callbacks, connects to the broker, and starts the event loop:"
   ]
  },
  {
   "cell_type": "code",
   "execution_count": 18,
   "id": "c2c326a5",
   "metadata": {},
   "outputs": [
    {
     "ename": "ConnectionRefusedError",
     "evalue": "[WinError 10061] No connection could be made because the target machine actively refused it",
     "output_type": "error",
     "traceback": [
      "\u001b[1;31m---------------------------------------------------------------------------\u001b[0m",
      "\u001b[1;31mConnectionRefusedError\u001b[0m                    Traceback (most recent call last)",
      "\u001b[1;32m<ipython-input-18-21dca635fe2b>\u001b[0m in \u001b[0;36m<module>\u001b[1;34m\u001b[0m\n\u001b[0;32m      3\u001b[0m \u001b[0mclient\u001b[0m\u001b[1;33m.\u001b[0m\u001b[0mon_message\u001b[0m \u001b[1;33m=\u001b[0m \u001b[0msub_message\u001b[0m\u001b[1;33m\u001b[0m\u001b[0m\n\u001b[0;32m      4\u001b[0m \u001b[0mclient\u001b[0m\u001b[1;33m.\u001b[0m\u001b[0musername_pw_set\u001b[0m\u001b[1;33m(\u001b[0m\u001b[0muser\u001b[0m\u001b[1;33m,\u001b[0m \u001b[0mpassword\u001b[0m\u001b[1;33m)\u001b[0m\u001b[1;33m\u001b[0m\u001b[0m\n\u001b[1;32m----> 5\u001b[1;33m \u001b[0mclient\u001b[0m\u001b[1;33m.\u001b[0m\u001b[0mconnect\u001b[0m\u001b[1;33m(\u001b[0m\u001b[0mhost\u001b[0m\u001b[1;33m)\u001b[0m\u001b[1;33m\u001b[0m\u001b[0m\n\u001b[0m\u001b[0;32m      6\u001b[0m \u001b[1;33m\u001b[0m\u001b[0m\n\u001b[0;32m      7\u001b[0m \u001b[0mclient\u001b[0m\u001b[1;33m.\u001b[0m\u001b[0mloop_forever\u001b[0m\u001b[1;33m(\u001b[0m\u001b[1;33m)\u001b[0m\u001b[1;33m\u001b[0m\u001b[0m\n",
      "\u001b[1;32mc:\\users\\tomk\\desktop\\dev\\env\\lib\\site-packages\\paho\\mqtt\\client.py\u001b[0m in \u001b[0;36mconnect\u001b[1;34m(self, host, port, keepalive, bind_address, bind_port, clean_start, properties)\u001b[0m\n\u001b[0;32m    912\u001b[0m         self.connect_async(host, port, keepalive,\n\u001b[0;32m    913\u001b[0m                            bind_address, bind_port, clean_start, properties)\n\u001b[1;32m--> 914\u001b[1;33m         \u001b[1;32mreturn\u001b[0m \u001b[0mself\u001b[0m\u001b[1;33m.\u001b[0m\u001b[0mreconnect\u001b[0m\u001b[1;33m(\u001b[0m\u001b[1;33m)\u001b[0m\u001b[1;33m\u001b[0m\u001b[0m\n\u001b[0m\u001b[0;32m    915\u001b[0m \u001b[1;33m\u001b[0m\u001b[0m\n\u001b[0;32m    916\u001b[0m     def connect_srv(self, domain=None, keepalive=60, bind_address=\"\",\n",
      "\u001b[1;32mc:\\users\\tomk\\desktop\\dev\\env\\lib\\site-packages\\paho\\mqtt\\client.py\u001b[0m in \u001b[0;36mreconnect\u001b[1;34m(self)\u001b[0m\n\u001b[0;32m   1042\u001b[0m         \u001b[0mself\u001b[0m\u001b[1;33m.\u001b[0m\u001b[0m_messages_reconnect_reset\u001b[0m\u001b[1;33m(\u001b[0m\u001b[1;33m)\u001b[0m\u001b[1;33m\u001b[0m\u001b[0m\n\u001b[0;32m   1043\u001b[0m \u001b[1;33m\u001b[0m\u001b[0m\n\u001b[1;32m-> 1044\u001b[1;33m         \u001b[0msock\u001b[0m \u001b[1;33m=\u001b[0m \u001b[0mself\u001b[0m\u001b[1;33m.\u001b[0m\u001b[0m_create_socket_connection\u001b[0m\u001b[1;33m(\u001b[0m\u001b[1;33m)\u001b[0m\u001b[1;33m\u001b[0m\u001b[0m\n\u001b[0m\u001b[0;32m   1045\u001b[0m \u001b[1;33m\u001b[0m\u001b[0m\n\u001b[0;32m   1046\u001b[0m         \u001b[1;32mif\u001b[0m \u001b[0mself\u001b[0m\u001b[1;33m.\u001b[0m\u001b[0m_ssl\u001b[0m\u001b[1;33m:\u001b[0m\u001b[1;33m\u001b[0m\u001b[0m\n",
      "\u001b[1;32mc:\\users\\tomk\\desktop\\dev\\env\\lib\\site-packages\\paho\\mqtt\\client.py\u001b[0m in \u001b[0;36m_create_socket_connection\u001b[1;34m(self)\u001b[0m\n\u001b[0;32m   3683\u001b[0m             \u001b[1;32mreturn\u001b[0m \u001b[0msocks\u001b[0m\u001b[1;33m.\u001b[0m\u001b[0mcreate_connection\u001b[0m\u001b[1;33m(\u001b[0m\u001b[0maddr\u001b[0m\u001b[1;33m,\u001b[0m \u001b[0mtimeout\u001b[0m\u001b[1;33m=\u001b[0m\u001b[0mself\u001b[0m\u001b[1;33m.\u001b[0m\u001b[0m_connect_timeout\u001b[0m\u001b[1;33m,\u001b[0m \u001b[0msource_address\u001b[0m\u001b[1;33m=\u001b[0m\u001b[0msource\u001b[0m\u001b[1;33m,\u001b[0m \u001b[1;33m**\u001b[0m\u001b[0mproxy\u001b[0m\u001b[1;33m)\u001b[0m\u001b[1;33m\u001b[0m\u001b[0m\n\u001b[0;32m   3684\u001b[0m         \u001b[1;32melse\u001b[0m\u001b[1;33m:\u001b[0m\u001b[1;33m\u001b[0m\u001b[0m\n\u001b[1;32m-> 3685\u001b[1;33m             \u001b[1;32mreturn\u001b[0m \u001b[0msocket\u001b[0m\u001b[1;33m.\u001b[0m\u001b[0mcreate_connection\u001b[0m\u001b[1;33m(\u001b[0m\u001b[0maddr\u001b[0m\u001b[1;33m,\u001b[0m \u001b[0mtimeout\u001b[0m\u001b[1;33m=\u001b[0m\u001b[0mself\u001b[0m\u001b[1;33m.\u001b[0m\u001b[0m_connect_timeout\u001b[0m\u001b[1;33m,\u001b[0m \u001b[0msource_address\u001b[0m\u001b[1;33m=\u001b[0m\u001b[0msource\u001b[0m\u001b[1;33m)\u001b[0m\u001b[1;33m\u001b[0m\u001b[0m\n\u001b[0m\u001b[0;32m   3686\u001b[0m \u001b[1;33m\u001b[0m\u001b[0m\n\u001b[0;32m   3687\u001b[0m \u001b[1;33m\u001b[0m\u001b[0m\n",
      "\u001b[1;32mc:\\users\\tomk\\appdata\\local\\programs\\python\\python36\\Lib\\socket.py\u001b[0m in \u001b[0;36mcreate_connection\u001b[1;34m(address, timeout, source_address)\u001b[0m\n\u001b[0;32m    722\u001b[0m \u001b[1;33m\u001b[0m\u001b[0m\n\u001b[0;32m    723\u001b[0m     \u001b[1;32mif\u001b[0m \u001b[0merr\u001b[0m \u001b[1;32mis\u001b[0m \u001b[1;32mnot\u001b[0m \u001b[1;32mNone\u001b[0m\u001b[1;33m:\u001b[0m\u001b[1;33m\u001b[0m\u001b[0m\n\u001b[1;32m--> 724\u001b[1;33m         \u001b[1;32mraise\u001b[0m \u001b[0merr\u001b[0m\u001b[1;33m\u001b[0m\u001b[0m\n\u001b[0m\u001b[0;32m    725\u001b[0m     \u001b[1;32melse\u001b[0m\u001b[1;33m:\u001b[0m\u001b[1;33m\u001b[0m\u001b[0m\n\u001b[0;32m    726\u001b[0m         \u001b[1;32mraise\u001b[0m \u001b[0merror\u001b[0m\u001b[1;33m(\u001b[0m\u001b[1;34m\"getaddrinfo returns an empty list\"\u001b[0m\u001b[1;33m)\u001b[0m\u001b[1;33m\u001b[0m\u001b[0m\n",
      "\u001b[1;32mc:\\users\\tomk\\appdata\\local\\programs\\python\\python36\\Lib\\socket.py\u001b[0m in \u001b[0;36mcreate_connection\u001b[1;34m(address, timeout, source_address)\u001b[0m\n\u001b[0;32m    711\u001b[0m             \u001b[1;32mif\u001b[0m \u001b[0msource_address\u001b[0m\u001b[1;33m:\u001b[0m\u001b[1;33m\u001b[0m\u001b[0m\n\u001b[0;32m    712\u001b[0m                 \u001b[0msock\u001b[0m\u001b[1;33m.\u001b[0m\u001b[0mbind\u001b[0m\u001b[1;33m(\u001b[0m\u001b[0msource_address\u001b[0m\u001b[1;33m)\u001b[0m\u001b[1;33m\u001b[0m\u001b[0m\n\u001b[1;32m--> 713\u001b[1;33m             \u001b[0msock\u001b[0m\u001b[1;33m.\u001b[0m\u001b[0mconnect\u001b[0m\u001b[1;33m(\u001b[0m\u001b[0msa\u001b[0m\u001b[1;33m)\u001b[0m\u001b[1;33m\u001b[0m\u001b[0m\n\u001b[0m\u001b[0;32m    714\u001b[0m             \u001b[1;31m# Break explicitly a reference cycle\u001b[0m\u001b[1;33m\u001b[0m\u001b[1;33m\u001b[0m\u001b[0m\n\u001b[0;32m    715\u001b[0m             \u001b[0merr\u001b[0m \u001b[1;33m=\u001b[0m \u001b[1;32mNone\u001b[0m\u001b[1;33m\u001b[0m\u001b[0m\n",
      "\u001b[1;31mConnectionRefusedError\u001b[0m: [WinError 10061] No connection could be made because the target machine actively refused it"
     ]
    }
   ],
   "source": [
    "client = mqtt.Client(client_id=clientId, protocol=mqtt.MQTTv5)\n",
    "client.on_connect = sub_connect\n",
    "client.on_message = sub_message\n",
    "client.username_pw_set(user, password)\n",
    "client.connect(host)\n",
    "\n",
    "client.loop_forever()"
   ]
  }
 ],
 "metadata": {
  "kernelspec": {
   "display_name": "Python 3",
   "language": "python",
   "name": "python3"
  },
  "language_info": {
   "codemirror_mode": {
    "name": "ipython",
    "version": 3
   },
   "file_extension": ".py",
   "mimetype": "text/x-python",
   "name": "python",
   "nbconvert_exporter": "python",
   "pygments_lexer": "ipython3",
   "version": "3.6.5"
  }
 },
 "nbformat": 4,
 "nbformat_minor": 5
}
