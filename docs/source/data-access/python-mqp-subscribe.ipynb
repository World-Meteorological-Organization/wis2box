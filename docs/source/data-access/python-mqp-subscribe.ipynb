{
 "cells": [
  {
   "cell_type": "markdown",
   "id": "revised-permit",
   "metadata": {},
   "source": [
    "Python MQP Subscribe\n",
    "===================\n",
    "\n",
    "\n",
    "This example will use widely available and used python language and libraries to download some announcements, and then retrieve the corresponding data, using only the paho.mqtt.client library, in addition to standard libraries."
   ]
  },
  {
   "cell_type": "code",
   "execution_count": 6,
   "id": "dried-horizontal",
   "metadata": {},
   "outputs": [],
   "source": [
    "import json\n",
    "import paho.mqtt.client as mqtt\n",
    "import random\n",
    "import urllib\n",
    "import urllib.request\n",
    "\n",
    "\n",
    "host='localhost'\n",
    "user='wis2box'\n",
    "password='wis2box'\n",
    "\n",
    "r = random.Random()\n",
    "clientId='MyQueueName'+ f\"{r.randint(1,1000):04d}\"\n",
    "# number of messages to subscribe to.\n",
    "messageCount = 0\n",
    "messageCountMaximum = 5\n",
    "\n",
    "# maximum size of data download to print.\n",
    "sizeMaximumThreshold = 1023"
   ]
  },
  {
   "cell_type": "markdown",
   "id": "loose-blend",
   "metadata": {},
   "source": [
    "The above imports the modules we need. Assuming localhost is set up and is publishing messages. Message queueing protocols provide real-time notification about availability of products.\n",
    "\n",
    "The standard python library used to subscribe to messages is paho.mqtt.client. The library uses callbacks.\n",
    "\n",
    "The first callback needed is called when the connection is established,  which is when we need to subscribe to topics we are interested in (topics are:  'xpublic/#', where / is a topic separator and # is a wildcard for any tree of topics.\n",
    "\n",
    "The qos=1 refers to Quality of Service.  1 establishes that we want to receive messages at least once. qos==1 is recommended.\n",
    "\n",
    "messageCount is used to limit the length of the demonstration (otherwise infinite, as it is a continuous flow.)"
   ]
  },
  {
   "cell_type": "code",
   "execution_count": 7,
   "id": "weighted-swaziland",
   "metadata": {},
   "outputs": [],
   "source": [
    "def sub_connect(client, userdata, flags, rc, properties=None):\n",
    "    print( \"on connection to subscribe:\", mqtt.connack_string(rc) )\n",
    "    for s in [ \"xpublic/#\" ]: \n",
    "        client.subscribe( s , qos=1 )\n",
    "\n"
   ]
  },
  {
   "cell_type": "markdown",
   "id": "educational-visit",
   "metadata": {},
   "source": [
    "The second callback needed is called every time a message is received.\n",
    "The message is decoded and printed.  to keep the output short for the demonstration, we limit the subscriber to a few messages."
   ]
  },
  {
   "cell_type": "code",
   "execution_count": 8,
   "id": "domestic-spirituality",
   "metadata": {},
   "outputs": [],
   "source": [
    "def sub_message(client, userdata, msg):\n",
    "    \"\"\"\n",
    "      print messages received.  Exit on count received.\n",
    "    \"\"\"\n",
    "    global messageCount,messageCountMaximum\n",
    "\n",
    "    m = json.loads(msg.payload.decode('utf-8'))\n",
    "    print( f\"message {messageCount} topic: {msg.topic} received: {m}\" )\n",
    "    print( f\"message {messageCount} data: {getData(m)}\" )\n",
    "    messageCount += 1\n",
    "    if messageCount > messageCountMaximum:\n",
    "        client.disconnect()\n",
    "        client.loop_stop()\n"
   ]
  },
  {
   "cell_type": "markdown",
   "id": "brown-experience",
   "metadata": {},
   "source": [
    "The message handler above calls getData(). The messages themselves are usually announcements of data availability, but when data is small, they can include the data itself in the *content* field. Usually the message refer to the data using a link. Here is a routine to obtain the data given an announcement message:"
   ]
  },
  {
   "cell_type": "code",
   "execution_count": 9,
   "id": "comic-ottawa",
   "metadata": {},
   "outputs": [],
   "source": [
    "def getData(m, sizeMaximum=1000):\n",
    "    \"\"\"\n",
    "      given a message, return the data it refers to\n",
    "    \"\"\"\n",
    "    if 'size' in m and m['size'] > sizeMaximum:\n",
    "        return f\" data too large {m['size']} bytes\"\n",
    "    elif 'content' in m:\n",
    "        if m['content']['encoding'] == 'base64':\n",
    "            return b64decode(m['content']['value'])\n",
    "        else:\n",
    "            return m['content']['value'].encode('utf-8')\n",
    "    else:\n",
    "        url = m['baseUrl'] + '/' + m['relPath']       \n",
    "        with urllib.request.urlopen(url) as response:\n",
    "            return response.read()        "
   ]
  },
  {
   "cell_type": "markdown",
   "id": "wrapped-harmony",
   "metadata": {},
   "source": [
    "The mainline registers the callbacks, connects to the broker, and starts the event loop:"
   ]
  },
  {
   "cell_type": "code",
   "execution_count": 10,
   "id": "incoming-quick",
   "metadata": {},
   "outputs": [
    {
     "name": "stdout",
     "output_type": "stream",
     "text": [
      "on connection to subscribe: Connection Accepted.\n",
      "message 0 topic: xpublic/v03/WIS/us/mobile_rgnl_al/surface/aviation/metar/us received: {'mode': '664', 'mtime': '20220224T052208.259097815', 'atime': '20220224T052208.259097815', 'pubTime': '20220224T052208.264983', 'baseUrl': 'http://localhost:8999/data/20220224T05', 'relPath': 'WIS/us/mobile_rgnl_al/surface/aviation/metar/us/SAUS44_KMOB_240503_COR_8d674aab16213ac2b13fab2d79950456.txt', 'integrity': {'method': 'md5', 'value': 'jWdKqxYhOsKxP6steZUEVg=='}, 'size': 137}\n",
      "message 0 data: b'SAUS44 KMOB 240503 COR\\r\\r\\nMTRPRN\\r\\r\\nMETAR KPRN 240458Z AUTO 20006G15KT 10SM OVC006 19/16 A3016 RMK AO2 \\r\\r\\nSLP161 T01940161 402830183\\r\\r\\n\\r\\r\\n\\x03'\n",
      "message 1 topic: xpublic/v03/WIS/pr/tjgu/surface/miscellaneous/pr received: {'mode': '664', 'mtime': '20220224T052208.427098989', 'atime': '20220224T052208.427098989', 'pubTime': '20220224T052208.430775', 'baseUrl': 'http://localhost:8999/data/20220224T05', 'relPath': 'WIS/pr/tjgu/surface/miscellaneous/pr/SXPU52_TJGU_240418_a8f650c50a0c0e38a41b0867a011574f.txt', 'integrity': {'method': 'md5', 'value': 'qPZQxQoMDjikGwhnoBFXTw=='}, 'size': 67}\n",
      "message 1 data: b'SXPU52 TJGU 240418\\r\\r\\nAAXX 24044\\n78523 35/// /0503   30151 222//\\r\\r\\n\\x03'\n",
      "message 2 topic: xpublic/v03/WIS/ca/canadian_met_centre/upperair/aircraft/airep/north-atlantic received: {'mode': '664', 'mtime': '20220224T052209.0511043072', 'atime': '20220224T052209.0511043072', 'pubTime': '20220224T052209.056451', 'baseUrl': 'http://localhost:8999/data/20220224T05', 'relPath': 'WIS/ca/canadian_met_centre/upperair/aircraft/airep/north-atlantic/UANT01_CWAO_240503_2d512e655e32ce80001105dfa2fc19f0.txt', 'integrity': {'method': 'md5', 'value': 'LVEuZV4yzoAAEQXfovwZ8A=='}, 'size': 135}\n",
      "message 2 data: b'UANT01 CWAO 240503\\r\\r\\nARP BAW17V 5329N04306W 0503 F400 5400N04000W 0515 5400N03000W MS70\\r\\r\\n 260/88 KT\\r\\r\\nGZBKN DDL XXH 240503 L48A\\r\\r\\n\\r\\r\\n\\x03'\n",
      "message 3 topic: xpublic/v03/WIS/pr/tjgu/surface/miscellaneous/pr received: {'atime': '20220224T052208.435099125', 'mtime': '20220224T052208.435099125', 'mode': '664', 'pubTime': '20220224T052208.440895', 'baseUrl': 'http://localhost:8999/data/20220224T05', 'relPath': 'WIS/pr/tjgu/surface/miscellaneous/pr/SXPU52_TJGU_240413_63e3ff1d1e3bc11b1f430024622ae5aa.txt', 'integrity': {'method': 'md5', 'value': 'Y+P/HR47wRsfQwAkYirlqg=='}, 'size': 67}\n",
      "message 3 data: b'SXPU52 TJGU 240413\\r\\r\\nAAXX 24044\\n78523 35/// /0404   30151 222//\\r\\r\\n\\x03'\n",
      "message 4 topic: xpublic/v03/WIS/us/wallops_i__wallops_station_va/surface/miscellaneous/nc received: {'mode': '664', 'atime': '20220224T052208.44309926', 'mtime': '20220224T052208.44309926', 'pubTime': '20220224T052208.445723', 'baseUrl': 'http://localhost:8999/data/20220224T05', 'relPath': 'WIS/us/wallops_i__wallops_station_va/surface/miscellaneous/nc/SXNC50_KWAL_240503_99baec43c8b040b9e8496a762be9a891.txt', 'integrity': {'method': 'md5', 'value': 'mbrsQ8iwQLnoSWp2K+mokQ=='}, 'size': 132}\n",
      "message 4 data: b'SXNC50 KWAL 240503\\r\\r\\n\\x1e326A9318 055050324 \\r\\n07.54 \\r\\n002 \\r\\n120 \\r\\n038 \\r\\n041 \\r\\n100 \\r\\n13.0 \\r\\n027.0 \\r\\n347 \\r\\n005 \\r\\n00000 \\r\\n 44+0NN  28W\\r\\r\\n\\x03'\n",
      "message 5 topic: xpublic/v03/WIS/pr/tjgu/surface/miscellaneous/pr received: {'mode': '664', 'mtime': '20220224T052208.455099344', 'atime': '20220224T052208.455099344', 'pubTime': '20220224T052208.457988', 'baseUrl': 'http://localhost:8999/data/20220224T05', 'relPath': 'WIS/pr/tjgu/surface/miscellaneous/pr/SXPU52_TJGU_240403_0034251607312a5feff05fd760128747.txt', 'integrity': {'method': 'md5', 'value': 'ADQlFgcxKl/v8F/XYBKHRw=='}, 'size': 67}\n",
      "message 5 data: b'SXPU52 TJGU 240403\\r\\r\\nAAXX 24044\\n78523 35/// /0306   30151 222//\\r\\r\\n\\x03'\n"
     ]
    },
    {
     "data": {
      "text/plain": [
       "7"
      ]
     },
     "execution_count": 10,
     "metadata": {},
     "output_type": "execute_result"
    }
   ],
   "source": [
    "client = mqtt.Client( client_id=clientId, protocol=mqtt.MQTTv5 )\n",
    "client.on_connect = sub_connect\n",
    "client.on_message = sub_message\n",
    "client.username_pw_set( user, password )\n",
    "client.connect( host )\n",
    "\n",
    "client.loop_forever()\n"
   ]
  },
  {
   "cell_type": "code",
   "execution_count": null,
   "id": "editorial-foster",
   "metadata": {},
   "outputs": [],
   "source": []
  }
 ],
 "metadata": {
  "kernelspec": {
   "display_name": "Python 3",
   "language": "python",
   "name": "python3"
  },
  "language_info": {
   "codemirror_mode": {
    "name": "ipython",
    "version": 3
   },
   "file_extension": ".py",
   "mimetype": "text/x-python",
   "name": "python",
   "nbconvert_exporter": "python",
   "pygments_lexer": "ipython3",
   "version": "3.8.10"
  }
 },
 "nbformat": 4,
 "nbformat_minor": 5
}
