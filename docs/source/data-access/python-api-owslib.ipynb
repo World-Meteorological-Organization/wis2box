{
 "cells": [
  {
   "cell_type": "markdown",
   "id": "473fea8a-ad1b-48f1-b84a-c6c2cbf36e1d",
   "metadata": {},
   "source": [
    "# Using Python and OWSLib"
   ]
  },
  {
   "cell_type": "markdown",
   "id": "7b7ceb09-3086-4f01-b6fc-91b95de88d47",
   "metadata": {},
   "source": [
    "[OWSLib](https://geopython.github.io/OWSLib) is a Python package which provides Pythonic access to OGC APIs and web services.  Let's see how easy it is to work with wis2box with standards-based tooling:"
   ]
  },
  {
   "cell_type": "code",
   "execution_count": 1,
   "id": "36a9be52-3fca-4fae-9757-99552a9d72d7",
   "metadata": {},
   "outputs": [],
   "source": [
    "from owslib.ogcapi.features import Features\n",
    "\n",
    "import pandas as pd\n",
    "\n",
    "def pretty_print(input):\n",
    "    print(json.dumps(input, indent=2))\n",
    "\n",
    "\n",
    "api = 'http://localhost:8999/oapi'"
   ]
  },
  {
   "cell_type": "markdown",
   "id": "ae687310-f8ba-4242-b29d-8cc9ad23e343",
   "metadata": {},
   "source": [
    "Let's load the wis2box API into OWSLib and inspect some data"
   ]
  },
  {
   "cell_type": "code",
   "execution_count": 2,
   "id": "0762be2b-b605-43bf-a577-3087eb472685",
   "metadata": {},
   "outputs": [
    {
     "name": "stdout",
     "output_type": "stream",
     "text": [
      "This OGC API Features endpoint has 4 datasets\n",
      "Surface weather observations (passthrough)\n",
      "Discovery metadata\n",
      "Stations\n",
      "Surface weather observations (hourly)\n"
     ]
    }
   ],
   "source": [
    "oafeat = Features(api)\n",
    "\n",
    "collections = oafeat.collections()\n",
    "print(f'This OGC API Features endpoint has {len(collections[\"collections\"])} datasets')\n",
    "\n",
    "for dataset in collections['collections']:\n",
    "    print(dataset['title'])\n",
    "\n",
    "malawi_obs = oafeat.collection_items('mwi.mwi_met_centre.data.core.weather.surface-based-observations.SYNOP')\n",
    "malawi_obs_df = pd.DataFrame(malawi_obs['features'])\n",
    "\n",
    "# then filter by station\n",
    "obs = oafeat.collection_items('mwi.mwi_met_centre.data.core.weather.surface-based-observations.SYNOP', wigos_station_identifier='0-454-2-AWSCHIDOOLE', name='air_temperature', limit=10000)\n",
    "\n",
    "datestamp = [obs['properties']['resultTime'] for obs in obs['features']]\n",
    "air_temperature = [obs['properties']['value'] for obs in obs['features']]\n",
    "\n",
    "d = {\n",
    "    'Date/Time': datestamp,\n",
    "    'Air temperature (°C)': air_temperature\n",
    "}\n",
    "\n",
    "df = pd.DataFrame(data=d)"
   ]
  },
  {
   "cell_type": "code",
   "execution_count": 3,
   "id": "7da9b89d",
   "metadata": {},
   "outputs": [
    {
     "data": {
      "text/plain": [
       "Date/Time                object\n",
       "Air temperature (°C)    float64\n",
       "dtype: object"
      ]
     },
     "execution_count": 3,
     "metadata": {},
     "output_type": "execute_result"
    }
   ],
   "source": [
    "df.dtypes"
   ]
  },
  {
   "cell_type": "code",
   "execution_count": 4,
   "id": "d214fedf",
   "metadata": {},
   "outputs": [
    {
     "data": {
      "text/html": [
       "<div>\n",
       "<style scoped>\n",
       "    .dataframe tbody tr th:only-of-type {\n",
       "        vertical-align: middle;\n",
       "    }\n",
       "\n",
       "    .dataframe tbody tr th {\n",
       "        vertical-align: top;\n",
       "    }\n",
       "\n",
       "    .dataframe thead th {\n",
       "        text-align: right;\n",
       "    }\n",
       "</style>\n",
       "<table border=\"1\" class=\"dataframe\">\n",
       "  <thead>\n",
       "    <tr style=\"text-align: right;\">\n",
       "      <th></th>\n",
       "      <th>Date/Time</th>\n",
       "      <th>Air temperature (°C)</th>\n",
       "    </tr>\n",
       "  </thead>\n",
       "  <tbody>\n",
       "    <tr>\n",
       "      <th>0</th>\n",
       "      <td>2022-01-12T13:55:00Z</td>\n",
       "      <td>24.85</td>\n",
       "    </tr>\n",
       "    <tr>\n",
       "      <th>1</th>\n",
       "      <td>2022-01-12T14:55:00Z</td>\n",
       "      <td>27.25</td>\n",
       "    </tr>\n",
       "    <tr>\n",
       "      <th>2</th>\n",
       "      <td>2022-01-12T15:55:00Z</td>\n",
       "      <td>26.65</td>\n",
       "    </tr>\n",
       "  </tbody>\n",
       "</table>\n",
       "</div>"
      ],
      "text/plain": [
       "              Date/Time  Air temperature (°C)\n",
       "0  2022-01-12T13:55:00Z                 24.85\n",
       "1  2022-01-12T14:55:00Z                 27.25\n",
       "2  2022-01-12T15:55:00Z                 26.65"
      ]
     },
     "execution_count": 4,
     "metadata": {},
     "output_type": "execute_result"
    }
   ],
   "source": [
    "df.head(3)"
   ]
  },
  {
   "cell_type": "code",
   "execution_count": 5,
   "id": "02c50e0f",
   "metadata": {},
   "outputs": [
    {
     "name": "stdout",
     "output_type": "stream",
     "text": [
      "Time extent\n",
      "\n",
      "Begin: 2022-01-12T13:55:00Z\n",
      "End: 2022-06-10T14:55:00Z\n",
      "Summary statistics:\n",
      "\n"
     ]
    },
    {
     "data": {
      "text/html": [
       "<div>\n",
       "<style scoped>\n",
       "    .dataframe tbody tr th:only-of-type {\n",
       "        vertical-align: middle;\n",
       "    }\n",
       "\n",
       "    .dataframe tbody tr th {\n",
       "        vertical-align: top;\n",
       "    }\n",
       "\n",
       "    .dataframe thead th {\n",
       "        text-align: right;\n",
       "    }\n",
       "</style>\n",
       "<table border=\"1\" class=\"dataframe\">\n",
       "  <thead>\n",
       "    <tr style=\"text-align: right;\">\n",
       "      <th></th>\n",
       "      <th>Air temperature (°C)</th>\n",
       "    </tr>\n",
       "  </thead>\n",
       "  <tbody>\n",
       "    <tr>\n",
       "      <th>count</th>\n",
       "      <td>5106.000000</td>\n",
       "    </tr>\n",
       "    <tr>\n",
       "      <th>mean</th>\n",
       "      <td>23.541559</td>\n",
       "    </tr>\n",
       "    <tr>\n",
       "      <th>std</th>\n",
       "      <td>4.053172</td>\n",
       "    </tr>\n",
       "    <tr>\n",
       "      <th>min</th>\n",
       "      <td>13.550000</td>\n",
       "    </tr>\n",
       "    <tr>\n",
       "      <th>25%</th>\n",
       "      <td>20.950000</td>\n",
       "    </tr>\n",
       "    <tr>\n",
       "      <th>50%</th>\n",
       "      <td>23.350000</td>\n",
       "    </tr>\n",
       "    <tr>\n",
       "      <th>75%</th>\n",
       "      <td>26.350000</td>\n",
       "    </tr>\n",
       "    <tr>\n",
       "      <th>max</th>\n",
       "      <td>37.850000</td>\n",
       "    </tr>\n",
       "  </tbody>\n",
       "</table>\n",
       "</div>"
      ],
      "text/plain": [
       "       Air temperature (°C)\n",
       "count           5106.000000\n",
       "mean              23.541559\n",
       "std                4.053172\n",
       "min               13.550000\n",
       "25%               20.950000\n",
       "50%               23.350000\n",
       "75%               26.350000\n",
       "max               37.850000"
      ]
     },
     "execution_count": 5,
     "metadata": {},
     "output_type": "execute_result"
    }
   ],
   "source": [
    "print(\"Time extent\\n\")\n",
    "print(f'Begin: {df[\"Date/Time\"].min()}')\n",
    "print(f'End: {df[\"Date/Time\"].max()}')\n",
    "\n",
    "print(\"Summary statistics:\\n\")\n",
    "df[['Air temperature (°C)']].describe()"
   ]
  },
  {
   "cell_type": "code",
   "execution_count": null,
   "id": "db4fe6ce",
   "metadata": {},
   "outputs": [],
   "source": []
  }
 ],
 "metadata": {
  "kernelspec": {
   "display_name": "Python 3 (ipykernel)",
   "language": "python",
   "name": "python3"
  },
  "language_info": {
   "codemirror_mode": {
    "name": "ipython",
    "version": 3
   },
   "file_extension": ".py",
   "mimetype": "text/x-python",
   "name": "python",
   "nbconvert_exporter": "python",
   "pygments_lexer": "ipython3",
   "version": "3.7.4"
  }
 },
 "nbformat": 4,
 "nbformat_minor": 5
}
